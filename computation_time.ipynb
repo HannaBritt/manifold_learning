{
 "cells": [
  {
   "cell_type": "code",
   "execution_count": null,
   "metadata": {},
   "outputs": [],
   "source": [
    "import matplotlib.pyplot as plt\n",
    "import numpy as np\n",
    "import dionysus as d\n",
    "import time \n",
    "import pandas as pd\n",
    "c = 0\n",
    "df = pd.DataFrame(columns=['Number of datapoints','Time'])\n",
    "\n",
    "for j in range(10):\n",
    "    for i in range(1,11):\n",
    "        n =20*i\n",
    "        points = np.random.random((n, 2))\n",
    "        t1 = time.time()\n",
    "        f = d.fill_rips(points, 2, 1.)\n",
    "        p = d.homology_persistence(f)\n",
    "        dgms = d.init_diagrams(p, f)\n",
    "        t2  = time.time()\n",
    "        df.loc[c] = [n,t2-t1]\n",
    "        print(n,t2-t1)\n",
    "        c+=1\n",
    "        df.to_csv(\"measurement.csv\")"
   ]
  },
  {
   "cell_type": "code",
   "execution_count": null,
   "metadata": {},
   "outputs": [],
   "source": [
    "#https://seaborn.pydata.org/generated/seaborn.lineplot.html\n",
    "import pandas as pd\n",
    "import seaborn as sns; sns.set()\n",
    "\n",
    "df = pd.read_csv(\"measurement.csv\")\n",
    "\n",
    "sns.set_style(\"whitegrid\")\n",
    "\n",
    "\n",
    "ax = sns.lineplot(x=\"Number of datapoints\", y=\"Time\",data=df)\n",
    "ax.set(ylabel='Time (s)')\n",
    "ax.set_ylim(0,)\n",
    "ax.set_xlim(20,200)\n",
    "fig =ax.get_figure()\n",
    "fig.savefig(\"computation_time.png\")"
   ]
  }
 ],
 "metadata": {
  "kernelspec": {
   "display_name": "Python 3",
   "language": "python",
   "name": "python3"
  },
  "language_info": {
   "codemirror_mode": {
    "name": "ipython",
    "version": 3
   },
   "file_extension": ".py",
   "mimetype": "text/x-python",
   "name": "python",
   "nbconvert_exporter": "python",
   "pygments_lexer": "ipython3",
   "version": "3.7.4"
  }
 },
 "nbformat": 4,
 "nbformat_minor": 2
}
